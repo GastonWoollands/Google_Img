{
 "cells": [
  {
   "cell_type": "code",
   "execution_count": 1,
   "metadata": {},
   "outputs": [],
   "source": [
    "import pandas as pd\n",
    "from selenium import webdriver\n",
    "from selenium.webdriver.chrome.options import Options\n",
    "from bs4 import BeautifulSoup\n",
    "import time\n",
    "#import nzpy\n",
    "\n",
    "import os\n",
    "from urllib.parse import urlparse\n",
    "\n",
    "import io\n",
    "import requests\n",
    "from PIL import Image\n",
    "import hashlib"
   ]
  },
  {
   "cell_type": "markdown",
   "metadata": {},
   "source": [
    "### Function Definition"
   ]
  },
  {
   "cell_type": "code",
   "execution_count": 5,
   "metadata": {},
   "outputs": [],
   "source": [
    "def get_image_urg(skus, limit):\n",
    "\n",
    "    url_dict = pd.DataFrame(columns=['SKU', 'URL', 'Style_Img', 'Width_Img', 'Height_Img'])\n",
    "\n",
    "    options = Options()\n",
    "    options.headless = True\n",
    "    for sku in skus:\n",
    "\n",
    "        driver = webdriver.Chrome('C:/Users/142845/Documents/Python Scripts/Drivers/chromedriver.exe', options=options)\n",
    "        driver.maximize_window()\n",
    "        driver.get(f\"https://www.google.com/search?q=fossil+{sku}+image&rlz=1C1GCEB_enES977ES977&source=lnms&tbm=isch&sa=X&ved=2ahUKEwjR6bCNqq_3AhU6l2oFHZltCbUQ_AUoAXoECAEQAw&biw=1365&bih=937&dpr=1&safe=active&ssui=on#imgrc=UWQfzjIHi__2UM\")\n",
    "        #driver.find_element_by_xpath('//*[@id=\"L2AGLb\"]/div').click() #Accept cookies\n",
    "        time.sleep(2)\n",
    "\n",
    "        actual_images = driver.find_elements_by_css_selector('img.rg_i.Q4LuWd')[:limit]\n",
    "        for actual_image in actual_images:\n",
    "\n",
    "            temp = {'SKU':[], 'URL':[], 'Style_Img':[], 'Width_Img':[],'Height_Img':[]}\n",
    "\n",
    "            actual_image.click()\n",
    "            time.sleep(2)\n",
    "            temp_image = actual_image.find_element_by_xpath('//*[@id=\"Sva75c\"]/div/div/div[3]/div[2]/c-wiz/div/div[1]/div[1]/div[3]/div/a/img')\n",
    "\n",
    "            if temp_image.get_attribute('src') and 'http' in temp_image.get_attribute('src'):\n",
    "                temp_url = temp_image.get_attribute('src')\n",
    "                style_img = temp_image.get_attribute('style')\n",
    "                width_img = style_img.split(';')[0].split(':')[1]\n",
    "                height_img = style_img.split(';')[1].split(':')[1]\n",
    "\n",
    "                temp['SKU'].append(sku)\n",
    "                temp['URL'].append(temp_url)\n",
    "                temp['Style_Img'].append(style_img)\n",
    "                temp['Width_Img'].append(width_img)\n",
    "                temp['Height_Img'].append(height_img)\n",
    "\n",
    "                print(f\"SUCCESS - SKU {sku} Scraped correctly\")\n",
    "\n",
    "                temp = pd.DataFrame(temp)\n",
    "                url_dict = pd.concat([url_dict, temp])\n",
    "\n",
    "                time.sleep(3)\n",
    "\n",
    "    return url_dict"
   ]
  },
  {
   "cell_type": "code",
   "execution_count": 3,
   "metadata": {},
   "outputs": [],
   "source": [
    "def download_image(folder_path:str, url:str, sku:str):\n",
    "    try:\n",
    "        image_content = requests.get(url).content\n",
    "\n",
    "    except Exception as e:\n",
    "        print(f\"ERROR - Could not download {url} - {e}\")\n",
    "\n",
    "    try:\n",
    "        image_file = io.BytesIO(image_content)\n",
    "        image = Image.open(image_file).convert('RGB')\n",
    "\n",
    "        file_path = os.path.join(folder_path, sku + '_' + hashlib.sha1(image_content).hexdigest()[:2] + '.jpg')\n",
    "\n",
    "        #file_path = os.path.join(folder_path, sku + '.jpg')\n",
    "        with open(file_path, 'wb') as f:\n",
    "            image.save(f, \"JPEG\", quality=85)          \n",
    "        print(f\"SUCCESS - saved {url} - as {file_path}\")\n",
    "        \n",
    "    except Exception as e:\n",
    "        print(f\"ERROR - Could not save {url} - {e}\")"
   ]
  },
  {
   "cell_type": "markdown",
   "metadata": {},
   "source": [
    "#### Test"
   ]
  },
  {
   "cell_type": "code",
   "execution_count": 6,
   "metadata": {},
   "outputs": [
    {
     "name": "stderr",
     "output_type": "stream",
     "text": [
      "<ipython-input-5-25848674e74f>:9: DeprecationWarning: executable_path has been deprecated, please pass in a Service object\n",
      "  driver = webdriver.Chrome('C:/Users/142845/Documents/Python Scripts/Drivers/chromedriver.exe', options=options)\n",
      "<ipython-input-5-25848674e74f>:15: DeprecationWarning: find_elements_by_css_selector is deprecated. Please use find_elements(by=By.CSS_SELECTOR, value=css_selector) instead\n",
      "  actual_images = driver.find_elements_by_css_selector('img.rg_i.Q4LuWd')[:limit]\n"
     ]
    },
    {
     "name": "stdout",
     "output_type": "stream",
     "text": [
      "SUCCESS - SKU FTW7026 Scraped correctly\n",
      "SUCCESS - SKU FTW7026 Scraped correctly\n",
      "SUCCESS - SKU FS4616 Scraped correctly\n",
      "SUCCESS - SKU FS4616 Scraped correctly\n"
     ]
    }
   ],
   "source": [
    "test_sku = ['FTW7026', 'FS4616']\n",
    "test_sku_df = get_image_urg(test_sku, 2)\n",
    "test_sku_df.reset_index(inplace=True, drop=True)"
   ]
  },
  {
   "cell_type": "code",
   "execution_count": 7,
   "metadata": {},
   "outputs": [
    {
     "name": "stdout",
     "output_type": "stream",
     "text": [
      "SUCCESS - saved https://fossil.scene7.com/is/image/FossilPartners/FTW7026_main?$sfcc_fos_large$ - as C:/Users/142845/Documents/Python Scripts/Scraping Web/Google Images/FTW7026_cb.jpg\n",
      "SUCCESS - saved https://fossil.scene7.com/is/image/FossilPartners/FTW7026_onwrist?$sfcc_fos_large$ - as C:/Users/142845/Documents/Python Scripts/Scraping Web/Google Images/FTW7026_fc.jpg\n",
      "SUCCESS - saved https://m.media-amazon.com/images/I/91mOvfJFOKL._AC_UY550_.jpg - as C:/Users/142845/Documents/Python Scripts/Scraping Web/Google Images/FS4616_a4.jpg\n",
      "SUCCESS - saved https://img01.ztat.net/article/spp-media-p1/7ad5fef41e3e3350b5f0f17ee42c4b97/c8e7791006564733a8c8271b175250cb.jpg?imwidth=762 - as C:/Users/142845/Documents/Python Scripts/Scraping Web/Google Images/FS4616_15.jpg\n"
     ]
    },
    {
     "data": {
      "text/plain": [
       "[None, None, None, None]"
      ]
     },
     "execution_count": 7,
     "metadata": {},
     "output_type": "execute_result"
    }
   ],
   "source": [
    "#Test Download Image \n",
    "[download_image(folder_path='C:/Users/142845/Documents/Python Scripts/Scraping Web/Google Images/', url = test_sku_df.URL[i], sku = test_sku_df.SKU[i]) for i in test_sku_df.index]"
   ]
  }
 ],
 "metadata": {
  "interpreter": {
   "hash": "40fc5f4278fff33e779ec6ee5e2d8156d12aedd1e032b58a6f2b1990cabea825"
  },
  "kernelspec": {
   "display_name": "Python 3.8.8 ('base')",
   "language": "python",
   "name": "python3"
  },
  "language_info": {
   "codemirror_mode": {
    "name": "ipython",
    "version": 3
   },
   "file_extension": ".py",
   "mimetype": "text/x-python",
   "name": "python",
   "nbconvert_exporter": "python",
   "pygments_lexer": "ipython3",
   "version": "3.8.8"
  },
  "orig_nbformat": 4
 },
 "nbformat": 4,
 "nbformat_minor": 2
}
