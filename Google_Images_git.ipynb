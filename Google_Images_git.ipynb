{
 "cells": [
  {
   "cell_type": "code",
   "execution_count": 1,
   "metadata": {},
   "outputs": [],
   "source": [
    "import pandas as pd\n",
    "from selenium import webdriver\n",
    "from selenium.webdriver.chrome.options import Options\n",
    "from bs4 import BeautifulSoup\n",
    "import time\n",
    "#import nzpy\n",
    "\n",
    "import os\n",
    "from urllib.parse import urlparse\n",
    "\n",
    "import io\n",
    "import requests\n",
    "from PIL import Image\n",
    "import hashlib"
   ]
  },
  {
   "cell_type": "markdown",
   "metadata": {},
   "source": [
    "### Function Definition"
   ]
  },
  {
   "cell_type": "code",
   "execution_count": 5,
   "metadata": {},
   "outputs": [],
   "source": [
    "def get_image_urg(skus, limit):\n",
    "\n",
    "    url_dict = pd.DataFrame(columns=['SKU', 'URL', 'Style_Img', 'Width_Img', 'Height_Img'])\n",
    "\n",
    "    options = Options()\n",
    "    options.headless = True\n",
    "    for sku in skus:\n",
    "\n",
    "        driver = webdriver.Chrome('C:/Users/142845/Documents/Python Scripts/Drivers/chromedriver.exe', options=options)\n",
    "        driver.maximize_window()\n",
    "        driver.get(f\"https://www.google.com/search?q=fossil+{sku}+image&rlz=1C1GCEB_enES977ES977&source=lnms&tbm=isch&sa=X&ved=2ahUKEwjR6bCNqq_3AhU6l2oFHZltCbUQ_AUoAXoECAEQAw&biw=1365&bih=937&dpr=1&safe=active&ssui=on#imgrc=UWQfzjIHi__2UM\")\n",
    "        #driver.find_element_by_xpath('//*[@id=\"L2AGLb\"]/div').click() #Accept cookies\n",
    "        time.sleep(2)\n",
    "\n",
    "        actual_images = driver.find_elements_by_css_selector('img.rg_i.Q4LuWd')[:limit]\n",
    "        for actual_image in actual_images:\n",
    "\n",
    "            temp = {'SKU':[], 'URL':[], 'Style_Img':[], 'Width_Img':[],'Height_Img':[]}\n",
    "\n",
    "            actual_image.click()\n",
    "            time.sleep(2)\n",
    "            temp_image = actual_image.find_element_by_xpath('//*[@id=\"Sva75c\"]/div/div/div[3]/div[2]/c-wiz/div/div[1]/div[1]/div[3]/div/a/img')\n",
    "\n",
    "            if temp_image.get_attribute('src') and 'http' in temp_image.get_attribute('src'):\n",
    "                temp_url = temp_image.get_attribute('src')\n",
    "                style_img = temp_image.get_attribute('style')\n",
    "                width_img = style_img.split(';')[0].split(':')[1]\n",
    "                height_img = style_img.split(';')[1].split(':')[1]\n",
    "\n",
    "                temp['SKU'].append(sku)\n",
    "                temp['URL'].append(temp_url)\n",
    "                temp['Style_Img'].append(style_img)\n",
    "                temp['Width_Img'].append(width_img)\n",
    "                temp['Height_Img'].append(height_img)\n",
    "\n",
    "                print(f\"SUCCESS - SKU {sku} Scraped correctly\")\n",
    "\n",
    "                temp = pd.DataFrame(temp)\n",
    "                url_dict = pd.concat([url_dict, temp])\n",
    "\n",
    "                time.sleep(3)\n",
    "\n",
    "    return url_dict"
   ]
  },
  {
   "cell_type": "code",
   "execution_count": 3,
   "metadata": {},
   "outputs": [],
   "source": [
    "def download_image(folder_path:str, url:str, sku:str):\n",
    "    try:\n",
    "        image_content = requests.get(url).content\n",
    "\n",
    "    except Exception as e:\n",
    "        print(f\"ERROR - Could not download {url} - {e}\")\n",
    "\n",
    "    try:\n",
    "        image_file = io.BytesIO(image_content)\n",
    "        image = Image.open(image_file).convert('RGB')\n",
    "\n",
    "        file_path = os.path.join(folder_path, sku + '_' + hashlib.sha1(image_content).hexdigest()[:2] + '.jpg')\n",
    "\n",
    "        #file_path = os.path.join(folder_path, sku + '.jpg')\n",
    "        with open(file_path, 'wb') as f:\n",
    "            image.save(f, \"JPEG\", quality=85)          \n",
    "        print(f\"SUCCESS - saved {url} - as {file_path}\")\n",
    "        \n",
    "    except Exception as e:\n",
    "        print(f\"ERROR - Could not save {url} - {e}\")"
   ]
  },
  {
   "cell_type": "markdown",
   "metadata": {},
   "source": [
    "#### Test"
   ]
  },
  {
   "cell_type": "code",
   "execution_count": 6,
   "metadata": {},
   "outputs": [
    {
     "name": "stderr",
     "output_type": "stream",
     "text": [
      "<ipython-input-5-25848674e74f>:9: DeprecationWarning: executable_path has been deprecated, please pass in a Service object\n",
      "  driver = webdriver.Chrome('C:/Users/142845/Documents/Python Scripts/Drivers/chromedriver.exe', options=options)\n",
      "<ipython-input-5-25848674e74f>:15: DeprecationWarning: find_elements_by_css_selector is deprecated. Please use find_elements(by=By.CSS_SELECTOR, value=css_selector) instead\n",
      "  actual_images = driver.find_elements_by_css_selector('img.rg_i.Q4LuWd')[:limit]\n"
     ]
    },
    {
     "name": "stdout",
     "output_type": "stream",
     "text": [
      "SUCCESS - SKU FTW7026 Scraped correctly\n",
      "SUCCESS - SKU FTW7026 Scraped correctly\n",
      "SUCCESS - SKU FS4616 Scraped correctly\n",
      "SUCCESS - SKU FS4616 Scraped correctly\n"
     ]
    }
   ],
   "source": [
    "test_sku = ['FTW7026', 'FS4616']\n",
    "test_sku_df = get_image_urg(test_sku, 2)\n",
    "test_sku_df.reset_index(inplace=True, drop=True)"
   ]
  },
  {
   "cell_type": "code",
   "execution_count": 7,
   "metadata": {},
   "outputs": [
    {
     "name": "stdout",
     "output_type": "stream",
     "text": [
      "SUCCESS - saved https://fossil.scene7.com/is/image/FossilPartners/FTW7026_main?$sfcc_fos_large$ - as C:/Users/142845/Documents/Python Scripts/Scraping Web/Google Images/FTW7026_cb.jpg\n",
      "SUCCESS - saved https://fossil.scene7.com/is/image/FossilPartners/FTW7026_onwrist?$sfcc_fos_large$ - as C:/Users/142845/Documents/Python Scripts/Scraping Web/Google Images/FTW7026_fc.jpg\n",
      "SUCCESS - saved https://m.media-amazon.com/images/I/91mOvfJFOKL._AC_UY550_.jpg - as C:/Users/142845/Documents/Python Scripts/Scraping Web/Google Images/FS4616_a4.jpg\n",
      "SUCCESS - saved https://img01.ztat.net/article/spp-media-p1/7ad5fef41e3e3350b5f0f17ee42c4b97/c8e7791006564733a8c8271b175250cb.jpg?imwidth=762 - as C:/Users/142845/Documents/Python Scripts/Scraping Web/Google Images/FS4616_15.jpg\n"
     ]
    },
    {
     "data": {
      "text/plain": [
       "[None, None, None, None]"
      ]
     },
     "execution_count": 7,
     "metadata": {},
     "output_type": "execute_result"
    }
   ],
   "source": [
    "#Test Download Image \n",
    "[download_image(folder_path='C:/Users/142845/Documents/Python Scripts/Scraping Web/Google Images/', url = test_sku_df.URL[i], sku = test_sku_df.SKU[i]) for i in test_sku_df.index]"
   ]
  },
  {
   "cell_type": "code",
   "execution_count": null,
   "metadata": {},
   "outputs": [],
   "source": []
  },
  {
   "cell_type": "markdown",
   "metadata": {},
   "source": [
    "### Romper"
   ]
  },
  {
   "cell_type": "code",
   "execution_count": null,
   "metadata": {},
   "outputs": [],
   "source": []
  },
  {
   "cell_type": "code",
   "execution_count": null,
   "metadata": {},
   "outputs": [],
   "source": []
  },
  {
   "cell_type": "code",
   "execution_count": null,
   "metadata": {},
   "outputs": [],
   "source": []
  },
  {
   "cell_type": "code",
   "execution_count": null,
   "metadata": {},
   "outputs": [],
   "source": []
  },
  {
   "cell_type": "code",
   "execution_count": 37,
   "metadata": {},
   "outputs": [
    {
     "name": "stderr",
     "output_type": "stream",
     "text": [
      "<ipython-input-37-f554a9382bc4>:10: DeprecationWarning: executable_path has been deprecated, please pass in a Service object\n",
      "  driver = webdriver.Chrome('C:/Users/142845/Documents/Python Scripts/Drivers/chromedriver.exe', options=options)\n",
      "<ipython-input-37-f554a9382bc4>:15: DeprecationWarning: find_element_by_xpath is deprecated. Please use find_element(by=By.XPATH, value=xpath) instead\n",
      "  driver.find_element_by_xpath('//*[@id=\"islrg\"]/div[1]/div[1]/a[1]/div[1]').click() #Images\n",
      "<ipython-input-37-f554a9382bc4>:18: DeprecationWarning: find_elements_by_css_selector is deprecated. Please use find_elements(by=By.CSS_SELECTOR, value=css_selector) instead\n",
      "  actual_images = driver.find_elements_by_css_selector('img.Q4LuWd')\n"
     ]
    },
    {
     "name": "stdout",
     "output_type": "stream",
     "text": [
      "SUCCESS - SKU' FTW7026 Scraped correctly\n"
     ]
    },
    {
     "ename": "ValueError",
     "evalue": "arrays must all be same length",
     "output_type": "error",
     "traceback": [
      "\u001b[1;31m---------------------------------------------------------------------------\u001b[0m",
      "\u001b[1;31mValueError\u001b[0m                                Traceback (most recent call last)",
      "\u001b[1;32m<ipython-input-37-f554a9382bc4>\u001b[0m in \u001b[0;36m<module>\u001b[1;34m\u001b[0m\n\u001b[0;32m     32\u001b[0m         \u001b[0mprint\u001b[0m\u001b[1;33m(\u001b[0m\u001b[1;34mf\"SUCCESS - SKU' {sku} Scraped correctly\"\u001b[0m\u001b[1;33m)\u001b[0m\u001b[1;33m\u001b[0m\u001b[1;33m\u001b[0m\u001b[0m\n\u001b[0;32m     33\u001b[0m \u001b[1;33m\u001b[0m\u001b[0m\n\u001b[1;32m---> 34\u001b[1;33m         \u001b[0mtemp\u001b[0m \u001b[1;33m=\u001b[0m \u001b[0mpd\u001b[0m\u001b[1;33m.\u001b[0m\u001b[0mDataFrame\u001b[0m\u001b[1;33m(\u001b[0m\u001b[0mtemp\u001b[0m\u001b[1;33m)\u001b[0m\u001b[1;33m\u001b[0m\u001b[1;33m\u001b[0m\u001b[0m\n\u001b[0m\u001b[0;32m     35\u001b[0m         \u001b[0murl_dict\u001b[0m \u001b[1;33m=\u001b[0m \u001b[0mpd\u001b[0m\u001b[1;33m.\u001b[0m\u001b[0mconcat\u001b[0m\u001b[1;33m(\u001b[0m\u001b[1;33m[\u001b[0m\u001b[0murl_dict\u001b[0m\u001b[1;33m,\u001b[0m \u001b[0mtemp\u001b[0m\u001b[1;33m]\u001b[0m\u001b[1;33m)\u001b[0m\u001b[1;33m\u001b[0m\u001b[1;33m\u001b[0m\u001b[0m\n\u001b[0;32m     36\u001b[0m \u001b[1;33m\u001b[0m\u001b[0m\n",
      "\u001b[1;32m~\\Anaconda3\\lib\\site-packages\\pandas\\core\\frame.py\u001b[0m in \u001b[0;36m__init__\u001b[1;34m(self, data, index, columns, dtype, copy)\u001b[0m\n\u001b[0;32m    527\u001b[0m \u001b[1;33m\u001b[0m\u001b[0m\n\u001b[0;32m    528\u001b[0m         \u001b[1;32melif\u001b[0m \u001b[0misinstance\u001b[0m\u001b[1;33m(\u001b[0m\u001b[0mdata\u001b[0m\u001b[1;33m,\u001b[0m \u001b[0mdict\u001b[0m\u001b[1;33m)\u001b[0m\u001b[1;33m:\u001b[0m\u001b[1;33m\u001b[0m\u001b[1;33m\u001b[0m\u001b[0m\n\u001b[1;32m--> 529\u001b[1;33m             \u001b[0mmgr\u001b[0m \u001b[1;33m=\u001b[0m \u001b[0minit_dict\u001b[0m\u001b[1;33m(\u001b[0m\u001b[0mdata\u001b[0m\u001b[1;33m,\u001b[0m \u001b[0mindex\u001b[0m\u001b[1;33m,\u001b[0m \u001b[0mcolumns\u001b[0m\u001b[1;33m,\u001b[0m \u001b[0mdtype\u001b[0m\u001b[1;33m=\u001b[0m\u001b[0mdtype\u001b[0m\u001b[1;33m)\u001b[0m\u001b[1;33m\u001b[0m\u001b[1;33m\u001b[0m\u001b[0m\n\u001b[0m\u001b[0;32m    530\u001b[0m         \u001b[1;32melif\u001b[0m \u001b[0misinstance\u001b[0m\u001b[1;33m(\u001b[0m\u001b[0mdata\u001b[0m\u001b[1;33m,\u001b[0m \u001b[0mma\u001b[0m\u001b[1;33m.\u001b[0m\u001b[0mMaskedArray\u001b[0m\u001b[1;33m)\u001b[0m\u001b[1;33m:\u001b[0m\u001b[1;33m\u001b[0m\u001b[1;33m\u001b[0m\u001b[0m\n\u001b[0;32m    531\u001b[0m             \u001b[1;32mimport\u001b[0m \u001b[0mnumpy\u001b[0m\u001b[1;33m.\u001b[0m\u001b[0mma\u001b[0m\u001b[1;33m.\u001b[0m\u001b[0mmrecords\u001b[0m \u001b[1;32mas\u001b[0m \u001b[0mmrecords\u001b[0m\u001b[1;33m\u001b[0m\u001b[1;33m\u001b[0m\u001b[0m\n",
      "\u001b[1;32m~\\Anaconda3\\lib\\site-packages\\pandas\\core\\internals\\construction.py\u001b[0m in \u001b[0;36minit_dict\u001b[1;34m(data, index, columns, dtype)\u001b[0m\n\u001b[0;32m    285\u001b[0m             \u001b[0marr\u001b[0m \u001b[1;32mif\u001b[0m \u001b[1;32mnot\u001b[0m \u001b[0mis_datetime64tz_dtype\u001b[0m\u001b[1;33m(\u001b[0m\u001b[0marr\u001b[0m\u001b[1;33m)\u001b[0m \u001b[1;32melse\u001b[0m \u001b[0marr\u001b[0m\u001b[1;33m.\u001b[0m\u001b[0mcopy\u001b[0m\u001b[1;33m(\u001b[0m\u001b[1;33m)\u001b[0m \u001b[1;32mfor\u001b[0m \u001b[0marr\u001b[0m \u001b[1;32min\u001b[0m \u001b[0marrays\u001b[0m\u001b[1;33m\u001b[0m\u001b[1;33m\u001b[0m\u001b[0m\n\u001b[0;32m    286\u001b[0m         ]\n\u001b[1;32m--> 287\u001b[1;33m     \u001b[1;32mreturn\u001b[0m \u001b[0marrays_to_mgr\u001b[0m\u001b[1;33m(\u001b[0m\u001b[0marrays\u001b[0m\u001b[1;33m,\u001b[0m \u001b[0mdata_names\u001b[0m\u001b[1;33m,\u001b[0m \u001b[0mindex\u001b[0m\u001b[1;33m,\u001b[0m \u001b[0mcolumns\u001b[0m\u001b[1;33m,\u001b[0m \u001b[0mdtype\u001b[0m\u001b[1;33m=\u001b[0m\u001b[0mdtype\u001b[0m\u001b[1;33m)\u001b[0m\u001b[1;33m\u001b[0m\u001b[1;33m\u001b[0m\u001b[0m\n\u001b[0m\u001b[0;32m    288\u001b[0m \u001b[1;33m\u001b[0m\u001b[0m\n\u001b[0;32m    289\u001b[0m \u001b[1;33m\u001b[0m\u001b[0m\n",
      "\u001b[1;32m~\\Anaconda3\\lib\\site-packages\\pandas\\core\\internals\\construction.py\u001b[0m in \u001b[0;36marrays_to_mgr\u001b[1;34m(arrays, arr_names, index, columns, dtype, verify_integrity)\u001b[0m\n\u001b[0;32m     78\u001b[0m         \u001b[1;31m# figure out the index, if necessary\u001b[0m\u001b[1;33m\u001b[0m\u001b[1;33m\u001b[0m\u001b[1;33m\u001b[0m\u001b[0m\n\u001b[0;32m     79\u001b[0m         \u001b[1;32mif\u001b[0m \u001b[0mindex\u001b[0m \u001b[1;32mis\u001b[0m \u001b[1;32mNone\u001b[0m\u001b[1;33m:\u001b[0m\u001b[1;33m\u001b[0m\u001b[1;33m\u001b[0m\u001b[0m\n\u001b[1;32m---> 80\u001b[1;33m             \u001b[0mindex\u001b[0m \u001b[1;33m=\u001b[0m \u001b[0mextract_index\u001b[0m\u001b[1;33m(\u001b[0m\u001b[0marrays\u001b[0m\u001b[1;33m)\u001b[0m\u001b[1;33m\u001b[0m\u001b[1;33m\u001b[0m\u001b[0m\n\u001b[0m\u001b[0;32m     81\u001b[0m         \u001b[1;32melse\u001b[0m\u001b[1;33m:\u001b[0m\u001b[1;33m\u001b[0m\u001b[1;33m\u001b[0m\u001b[0m\n\u001b[0;32m     82\u001b[0m             \u001b[0mindex\u001b[0m \u001b[1;33m=\u001b[0m \u001b[0mensure_index\u001b[0m\u001b[1;33m(\u001b[0m\u001b[0mindex\u001b[0m\u001b[1;33m)\u001b[0m\u001b[1;33m\u001b[0m\u001b[1;33m\u001b[0m\u001b[0m\n",
      "\u001b[1;32m~\\Anaconda3\\lib\\site-packages\\pandas\\core\\internals\\construction.py\u001b[0m in \u001b[0;36mextract_index\u001b[1;34m(data)\u001b[0m\n\u001b[0;32m    399\u001b[0m             \u001b[0mlengths\u001b[0m \u001b[1;33m=\u001b[0m \u001b[0mlist\u001b[0m\u001b[1;33m(\u001b[0m\u001b[0mset\u001b[0m\u001b[1;33m(\u001b[0m\u001b[0mraw_lengths\u001b[0m\u001b[1;33m)\u001b[0m\u001b[1;33m)\u001b[0m\u001b[1;33m\u001b[0m\u001b[1;33m\u001b[0m\u001b[0m\n\u001b[0;32m    400\u001b[0m             \u001b[1;32mif\u001b[0m \u001b[0mlen\u001b[0m\u001b[1;33m(\u001b[0m\u001b[0mlengths\u001b[0m\u001b[1;33m)\u001b[0m \u001b[1;33m>\u001b[0m \u001b[1;36m1\u001b[0m\u001b[1;33m:\u001b[0m\u001b[1;33m\u001b[0m\u001b[1;33m\u001b[0m\u001b[0m\n\u001b[1;32m--> 401\u001b[1;33m                 \u001b[1;32mraise\u001b[0m \u001b[0mValueError\u001b[0m\u001b[1;33m(\u001b[0m\u001b[1;34m\"arrays must all be same length\"\u001b[0m\u001b[1;33m)\u001b[0m\u001b[1;33m\u001b[0m\u001b[1;33m\u001b[0m\u001b[0m\n\u001b[0m\u001b[0;32m    402\u001b[0m \u001b[1;33m\u001b[0m\u001b[0m\n\u001b[0;32m    403\u001b[0m             \u001b[1;32mif\u001b[0m \u001b[0mhave_dicts\u001b[0m\u001b[1;33m:\u001b[0m\u001b[1;33m\u001b[0m\u001b[1;33m\u001b[0m\u001b[0m\n",
      "\u001b[1;31mValueError\u001b[0m: arrays must all be same length"
     ]
    }
   ],
   "source": [
    "skus = ['FTW7026']\n",
    "\n",
    "url_dict = pd.DataFrame(columns=['SKU', 'URL', 'Style_Img', 'Width_Img', 'Height_Img'])\n",
    "\n",
    "options = Options()\n",
    "options.headless = True\n",
    "for sku in skus:\n",
    "    temp = {'SKU':[], 'URL':[], 'Style_Img':[], 'Width_Img':[],'Height_Img':[] }\n",
    "\n",
    "    driver = webdriver.Chrome('C:/Users/142845/Documents/Python Scripts/Drivers/chromedriver.exe', options=options)\n",
    "    driver.maximize_window()\n",
    "    driver.get(f\"https://www.google.com/search?q=fossil+{sku}+image&rlz=1C1GCEB_enES977ES977&source=lnms&tbm=isch&sa=X&ved=2ahUKEwjR6bCNqq_3AhU6l2oFHZltCbUQ_AUoAXoECAEQAw&biw=1365&bih=937&dpr=1&safe=active&ssui=on#imgrc=UWQfzjIHi__2UM\")\n",
    "    #driver.find_element_by_xpath('//*[@id=\"L2AGLb\"]/div').click() #Accept cookies\n",
    "    time.sleep(2)\n",
    "    driver.find_element_by_xpath('//*[@id=\"islrg\"]/div[1]/div[1]/a[1]/div[1]').click() #Images\n",
    "\n",
    "    # extract image urls\n",
    "    actual_images = driver.find_elements_by_css_selector('img.Q4LuWd')\n",
    "    #actual_images = driver.find_elements_by_xpath('//*[@id=\"islrg\"]/div[1]/div[1]/a[1]/div[1]/img')\n",
    "    time.sleep(2)\n",
    "    for actual_image in actual_images[:1]:\n",
    "        #if actual_image.get_attribute('src') and 'http' in actual_image.get_attribute('src'):\n",
    "        temp_url = actual_image.get_attribute('src')\n",
    "        width_img = actual_image.get_attribute('width')\n",
    "        height_img = actual_image.get_attribute('height')\n",
    "\n",
    "        temp['SKU'].append(sku)\n",
    "        temp['URL'].append(temp_url)\n",
    "        temp['Width_Img'].append(width_img)\n",
    "        temp['Height_Img'].append(height_img)\n",
    "\n",
    "        print(f\"SUCCESS - SKU' {sku} Scraped correctly\")\n",
    "\n",
    "        temp = pd.DataFrame(temp)\n",
    "        url_dict = pd.concat([url_dict, temp])\n",
    "\n",
    "\n",
    "\n"
   ]
  },
  {
   "cell_type": "code",
   "execution_count": 25,
   "metadata": {},
   "outputs": [
    {
     "name": "stderr",
     "output_type": "stream",
     "text": [
      "<ipython-input-25-0beb6bc3e193>:6: DeprecationWarning: executable_path has been deprecated, please pass in a Service object\n",
      "  driver = webdriver.Chrome('C:/Users/142845/Documents/Python Scripts/Drivers/chromedriver.exe')\n",
      "<ipython-input-25-0beb6bc3e193>:12: DeprecationWarning: find_elements_by_css_selector is deprecated. Please use find_elements(by=By.CSS_SELECTOR, value=css_selector) instead\n",
      "  actual_images = driver.find_elements_by_css_selector('img.rg_i.Q4LuWd')\n"
     ]
    }
   ],
   "source": [
    "sku = 'FTW7026'\n",
    "\n",
    "url_dict = pd.DataFrame(columns=['SKU', 'URL', 'Width_Img', 'Height_Img'])\n",
    "\n",
    "driver = webdriver.Chrome('C:/Users/142845/Documents/Python Scripts/Drivers/chromedriver.exe')\n",
    "driver.maximize_window()\n",
    "driver.get(f\"https://www.google.com/search?q=fossil+{sku}+image&rlz=1C1GCEB_enES977ES977&source=lnms&tbm=isch&sa=X&ved=2ahUKEwjR6bCNqq_3AhU6l2oFHZltCbUQ_AUoAXoECAEQAw&biw=1365&bih=937&dpr=1&safe=active&ssui=on#imgrc=UWQfzjIHi__2UM\")\n",
    "#driver.find_element_by_xpath('//*[@id=\"L2AGLb\"]/div').click() #Accept cookies\n",
    "time.sleep(2)\n",
    "\n",
    "actual_images = driver.find_elements_by_css_selector('img.rg_i.Q4LuWd')\n",
    "for actual_image in actual_images[:10]:\n",
    "\n",
    "    temp = {'SKU':[], 'URL':[], 'Width_Img':[],'Height_Img':[] }\n",
    "\n",
    "    temp_url = actual_image.get_attribute('src')\n",
    "    width_img = actual_image.get_attribute('width')\n",
    "    height_img = actual_image.get_attribute('height')\n",
    "\n",
    "    temp['SKU'].append(sku)\n",
    "    temp['URL'].append(temp_url)\n",
    "    temp['Width_Img'].append(width_img)\n",
    "    temp['Height_Img'].append(height_img)\n",
    "\n",
    "    temp = pd.DataFrame(temp)\n",
    "\n",
    "    url_dict = pd.concat([url_dict, temp])\n"
   ]
  },
  {
   "cell_type": "code",
   "execution_count": 26,
   "metadata": {},
   "outputs": [
    {
     "data": {
      "text/html": [
       "<div>\n",
       "<style scoped>\n",
       "    .dataframe tbody tr th:only-of-type {\n",
       "        vertical-align: middle;\n",
       "    }\n",
       "\n",
       "    .dataframe tbody tr th {\n",
       "        vertical-align: top;\n",
       "    }\n",
       "\n",
       "    .dataframe thead th {\n",
       "        text-align: right;\n",
       "    }\n",
       "</style>\n",
       "<table border=\"1\" class=\"dataframe\">\n",
       "  <thead>\n",
       "    <tr style=\"text-align: right;\">\n",
       "      <th></th>\n",
       "      <th>SKU</th>\n",
       "      <th>URL</th>\n",
       "      <th>Width_Img</th>\n",
       "      <th>Height_Img</th>\n",
       "    </tr>\n",
       "  </thead>\n",
       "  <tbody>\n",
       "    <tr>\n",
       "      <th>0</th>\n",
       "      <td>FTW7026</td>\n",
       "      <td>data:image/jpeg;base64,/9j/4AAQSkZJRgABAQAAAQA...</td>\n",
       "      <td>156</td>\n",
       "      <td>180</td>\n",
       "    </tr>\n",
       "    <tr>\n",
       "      <th>0</th>\n",
       "      <td>FTW7026</td>\n",
       "      <td>data:image/jpeg;base64,/9j/4AAQSkZJRgABAQAAAQA...</td>\n",
       "      <td>156</td>\n",
       "      <td>180</td>\n",
       "    </tr>\n",
       "    <tr>\n",
       "      <th>0</th>\n",
       "      <td>FTW7026</td>\n",
       "      <td>data:image/jpeg;base64,/9j/4AAQSkZJRgABAQAAAQA...</td>\n",
       "      <td>122</td>\n",
       "      <td>200</td>\n",
       "    </tr>\n",
       "    <tr>\n",
       "      <th>0</th>\n",
       "      <td>FTW7026</td>\n",
       "      <td>data:image/jpeg;base64,/9j/4AAQSkZJRgABAQAAAQA...</td>\n",
       "      <td>156</td>\n",
       "      <td>180</td>\n",
       "    </tr>\n",
       "    <tr>\n",
       "      <th>0</th>\n",
       "      <td>FTW7026</td>\n",
       "      <td>data:image/jpeg;base64,/9j/4AAQSkZJRgABAQAAAQA...</td>\n",
       "      <td>146</td>\n",
       "      <td>182</td>\n",
       "    </tr>\n",
       "    <tr>\n",
       "      <th>0</th>\n",
       "      <td>FTW7026</td>\n",
       "      <td>data:image/jpeg;base64,/9j/4AAQSkZJRgABAQAAAQA...</td>\n",
       "      <td>156</td>\n",
       "      <td>180</td>\n",
       "    </tr>\n",
       "    <tr>\n",
       "      <th>0</th>\n",
       "      <td>FTW7026</td>\n",
       "      <td>data:image/jpeg;base64,/9j/4AAQSkZJRgABAQAAAQA...</td>\n",
       "      <td>156</td>\n",
       "      <td>180</td>\n",
       "    </tr>\n",
       "    <tr>\n",
       "      <th>0</th>\n",
       "      <td>FTW7026</td>\n",
       "      <td>data:image/jpeg;base64,/9j/4AAQSkZJRgABAQAAAQA...</td>\n",
       "      <td>156</td>\n",
       "      <td>180</td>\n",
       "    </tr>\n",
       "    <tr>\n",
       "      <th>0</th>\n",
       "      <td>FTW7026</td>\n",
       "      <td>data:image/jpeg;base64,/9j/4AAQSkZJRgABAQAAAQA...</td>\n",
       "      <td>113</td>\n",
       "      <td>200</td>\n",
       "    </tr>\n",
       "    <tr>\n",
       "      <th>0</th>\n",
       "      <td>FTW7026</td>\n",
       "      <td>data:image/jpeg;base64,/9j/4AAQSkZJRgABAQAAAQA...</td>\n",
       "      <td>105</td>\n",
       "      <td>201</td>\n",
       "    </tr>\n",
       "  </tbody>\n",
       "</table>\n",
       "</div>"
      ],
      "text/plain": [
       "       SKU                                                URL Width_Img  \\\n",
       "0  FTW7026  data:image/jpeg;base64,/9j/4AAQSkZJRgABAQAAAQA...       156   \n",
       "0  FTW7026  data:image/jpeg;base64,/9j/4AAQSkZJRgABAQAAAQA...       156   \n",
       "0  FTW7026  data:image/jpeg;base64,/9j/4AAQSkZJRgABAQAAAQA...       122   \n",
       "0  FTW7026  data:image/jpeg;base64,/9j/4AAQSkZJRgABAQAAAQA...       156   \n",
       "0  FTW7026  data:image/jpeg;base64,/9j/4AAQSkZJRgABAQAAAQA...       146   \n",
       "0  FTW7026  data:image/jpeg;base64,/9j/4AAQSkZJRgABAQAAAQA...       156   \n",
       "0  FTW7026  data:image/jpeg;base64,/9j/4AAQSkZJRgABAQAAAQA...       156   \n",
       "0  FTW7026  data:image/jpeg;base64,/9j/4AAQSkZJRgABAQAAAQA...       156   \n",
       "0  FTW7026  data:image/jpeg;base64,/9j/4AAQSkZJRgABAQAAAQA...       113   \n",
       "0  FTW7026  data:image/jpeg;base64,/9j/4AAQSkZJRgABAQAAAQA...       105   \n",
       "\n",
       "  Height_Img  \n",
       "0        180  \n",
       "0        180  \n",
       "0        200  \n",
       "0        180  \n",
       "0        182  \n",
       "0        180  \n",
       "0        180  \n",
       "0        180  \n",
       "0        200  \n",
       "0        201  "
      ]
     },
     "execution_count": 26,
     "metadata": {},
     "output_type": "execute_result"
    }
   ],
   "source": [
    "url_dict"
   ]
  },
  {
   "cell_type": "code",
   "execution_count": 27,
   "metadata": {},
   "outputs": [],
   "source": [
    "def get_image_urg(skus):\n",
    "    url_dict = pd.DataFrame(columns=['SKU', 'URL', 'Width_Img', 'Height_Img'])\n",
    "\n",
    "    options = Options()\n",
    "    options.headless = True\n",
    "    for sku in skus:\n",
    "        #temp = {'SKU':[], 'URL':[], 'Style_Img':[], 'Width_Img':[],'Height_Img':[] }\n",
    "\n",
    "        driver = webdriver.Chrome('C:/Users/142845/Documents/Python Scripts/Drivers/chromedriver.exe', options=options)\n",
    "        driver.maximize_window()\n",
    "        driver.get(f\"https://www.google.com/search?q=fossil+{sku}+image&rlz=1C1GCEB_enES977ES977&source=lnms&tbm=isch&sa=X&ved=2ahUKEwjR6bCNqq_3AhU6l2oFHZltCbUQ_AUoAXoECAEQAw&biw=1365&bih=937&dpr=1&safe=active&ssui=on#imgrc=UWQfzjIHi__2UM\")\n",
    "        #driver.find_element_by_xpath('//*[@id=\"L2AGLb\"]/div').click() #Accept cookies\n",
    "        time.sleep(2)\n",
    "        \n",
    "        # extract image urls    \n",
    "        actual_images = driver.find_elements_by_css_selector('img.rg_i.Q4LuWd')\n",
    "        for actual_image in actual_images[:10]:\n",
    "            temp = {'SKU':[], 'URL':[], 'Width_Img':[],'Height_Img':[] }\n",
    "        \n",
    "            temp_url = actual_image.get_attribute('src')\n",
    "            width_img = actual_image.get_attribute('width')\n",
    "            height_img = actual_image.get_attribute('height')\n",
    "            \n",
    "            temp['SKU'].append(sku)\n",
    "            temp['URL'].append(temp_url)\n",
    "            temp['Width_Img'].append(width_img)\n",
    "            temp['Height_Img'].append(height_img)\n",
    "            \n",
    "            print(f\"SUCCESS - SKU' {sku} Scraped correctly\")\n",
    "\n",
    "            temp = pd.DataFrame(temp)\n",
    "            url_dict = pd.concat([url_dict, temp])\n",
    "\n",
    "    return url_dict"
   ]
  },
  {
   "cell_type": "code",
   "execution_count": 29,
   "metadata": {},
   "outputs": [
    {
     "name": "stderr",
     "output_type": "stream",
     "text": [
      "<ipython-input-27-e2da364f388f>:9: DeprecationWarning: executable_path has been deprecated, please pass in a Service object\n",
      "  driver = webdriver.Chrome('C:/Users/142845/Documents/Python Scripts/Drivers/chromedriver.exe', options=options)\n",
      "<ipython-input-27-e2da364f388f>:16: DeprecationWarning: find_elements_by_css_selector is deprecated. Please use find_elements(by=By.CSS_SELECTOR, value=css_selector) instead\n",
      "  actual_images = driver.find_elements_by_css_selector('img.rg_i.Q4LuWd')\n"
     ]
    },
    {
     "name": "stdout",
     "output_type": "stream",
     "text": [
      "SUCCESS - SKU' FTW7026 Scraped correctly\n",
      "SUCCESS - SKU' FTW7026 Scraped correctly\n",
      "SUCCESS - SKU' FTW7026 Scraped correctly\n",
      "SUCCESS - SKU' FTW7026 Scraped correctly\n",
      "SUCCESS - SKU' FTW7026 Scraped correctly\n",
      "SUCCESS - SKU' FTW7026 Scraped correctly\n",
      "SUCCESS - SKU' FTW7026 Scraped correctly\n",
      "SUCCESS - SKU' FTW7026 Scraped correctly\n",
      "SUCCESS - SKU' FTW7026 Scraped correctly\n",
      "SUCCESS - SKU' FTW7026 Scraped correctly\n",
      "SUCCESS - SKU' FS4616 Scraped correctly\n",
      "SUCCESS - SKU' FS4616 Scraped correctly\n",
      "SUCCESS - SKU' FS4616 Scraped correctly\n",
      "SUCCESS - SKU' FS4616 Scraped correctly\n",
      "SUCCESS - SKU' FS4616 Scraped correctly\n",
      "SUCCESS - SKU' FS4616 Scraped correctly\n",
      "SUCCESS - SKU' FS4616 Scraped correctly\n",
      "SUCCESS - SKU' FS4616 Scraped correctly\n",
      "SUCCESS - SKU' FS4616 Scraped correctly\n",
      "SUCCESS - SKU' FS4616 Scraped correctly\n"
     ]
    }
   ],
   "source": [
    "test_sku = ['FTW7026', 'FS4616']\n",
    "#test_sku = ['FTW7026']\n",
    "test_sku_df = get_image_urg(test_sku)\n",
    "test_sku_df.reset_index(inplace=True, drop=True)"
   ]
  },
  {
   "cell_type": "code",
   "execution_count": null,
   "metadata": {},
   "outputs": [],
   "source": [
    "def download_image(folder_path:str, url:str, sku:str):\n",
    "    try:\n",
    "        image_content = requests.get(url).content\n",
    "\n",
    "    except Exception as e:\n",
    "        print(f\"ERROR - Could not download {url} - {e}\")\n",
    "\n",
    "    try:\n",
    "        image_file = io.BytesIO(image_content)\n",
    "        image = Image.open(image_file).convert('RGB')\n",
    "        #file_path = os.path.join(folder_path,hashlib.sha1(image_content).hexdigest()[:10] + '.jpg')\n",
    "        file_path = os.path.join(folder_path, sku + '.jpg')\n",
    "        with open(file_path, 'wb') as f:\n",
    "            image.save(f, \"JPEG\", quality=85)          \n",
    "        print(f\"SUCCESS - saved {url} - as {file_path}\")\n",
    "        \n",
    "    except Exception as e:\n",
    "        print(f\"ERROR - Could not save {url} - {e}\")"
   ]
  },
  {
   "cell_type": "code",
   "execution_count": null,
   "metadata": {},
   "outputs": [],
   "source": []
  }
 ],
 "metadata": {
  "interpreter": {
   "hash": "40fc5f4278fff33e779ec6ee5e2d8156d12aedd1e032b58a6f2b1990cabea825"
  },
  "kernelspec": {
   "display_name": "Python 3.8.8 ('base')",
   "language": "python",
   "name": "python3"
  },
  "language_info": {
   "codemirror_mode": {
    "name": "ipython",
    "version": 3
   },
   "file_extension": ".py",
   "mimetype": "text/x-python",
   "name": "python",
   "nbconvert_exporter": "python",
   "pygments_lexer": "ipython3",
   "version": "3.8.8"
  },
  "orig_nbformat": 4
 },
 "nbformat": 4,
 "nbformat_minor": 2
}
